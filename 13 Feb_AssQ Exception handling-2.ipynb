{
 "cells": [
  {
   "cell_type": "markdown",
   "id": "a38172ef",
   "metadata": {},
   "source": [
    "## Exception Handling 2 Assignment"
   ]
  },
  {
   "cell_type": "markdown",
   "id": "d28bd022",
   "metadata": {},
   "source": [
    "#### Q1. Explain why we have to use the Exception class while creating a Custom Exception.\n",
    "\n",
    "###### Note: Here Exception class refers to the base class for all the exceptions."
   ]
  },
  {
   "cell_type": "markdown",
   "id": "44782da2",
   "metadata": {},
   "source": [
    "Exception class is used as the base class for the custom exception classes. To Create a custom exception class we need to inherit the properties (Attributes+ methods) from the base exception class . Exception class is a super class for all the custom exceptions. Using the custom exception, we can have your own exception and message. Here, we have passed a string to the constructor of superclass, so that the message which we passed into the super class will show in the output when the custom exception was raised"
   ]
  },
  {
   "cell_type": "markdown",
   "id": "5af993fc",
   "metadata": {},
   "source": [
    "#### Q2. Write a python program to print Python Exception Hierarchy."
   ]
  },
  {
   "cell_type": "code",
   "execution_count": 1,
   "id": "79692518",
   "metadata": {},
   "outputs": [],
   "source": [
    "\"\"\"\n",
    "The Python Exception hierarchy:\n",
    "\n",
    "BaseException\n",
    " ├── BaseExceptionGroup\n",
    " ├── GeneratorExit\n",
    " ├── KeyboardInterrupt\n",
    " ├── SystemExit\n",
    " └── Exception\n",
    "      ├── ArithmeticError\n",
    "      │    ├── FloatingPointError\n",
    "      │    ├── OverflowError\n",
    "      │    └── ZeroDivisionError\n",
    "      ├── AssertionError\n",
    "      ├── AttributeError\n",
    "      ├── BufferError\n",
    "      ├── EOFError\n",
    "      ├── ExceptionGroup [BaseExceptionGroup]\n",
    "      ├── ImportError\n",
    "      │    └── ModuleNotFoundError\n",
    "      ├── LookupError\n",
    "      │    ├── IndexError\n",
    "      │    └── KeyError\n",
    "      ├── MemoryError\n",
    "      ├── NameError\n",
    "      │    └── UnboundLocalError\n",
    "      ├── OSError\n",
    "      │    ├── BlockingIOError\n",
    "      │    ├── ChildProcessError\n",
    "      │    ├── ConnectionError\n",
    "      │    │    ├── BrokenPipeError\n",
    "      │    │    ├── ConnectionAbortedError\n",
    "      │    │    ├── ConnectionRefusedError\n",
    "      │    │    └── ConnectionResetError\n",
    "      │    ├── FileExistsError\n",
    "      │    ├── FileNotFoundError\n",
    "      │    ├── InterruptedError\n",
    "      │    ├── IsADirectoryError\n",
    "      │    ├── NotADirectoryError\n",
    "      │    ├── PermissionError\n",
    "      │    ├── ProcessLookupError\n",
    "      │    └── TimeoutError\n",
    "      ├── ReferenceError\n",
    "      ├── RuntimeError\n",
    "      │    ├── NotImplementedError\n",
    "      │    └── RecursionError\n",
    "      ├── StopAsyncIteration\n",
    "      ├── StopIteration\n",
    "      ├── SyntaxError\n",
    "      │    └── IndentationError\n",
    "      │         └── TabError\n",
    "      ├── SystemError\n",
    "      ├── TypeError\n",
    "      ├── ValueError\n",
    "      │    └── UnicodeError\n",
    "      │         ├── UnicodeDecodeError\n",
    "      │         ├── UnicodeEncodeError\n",
    "      │         └── UnicodeTranslateError\n",
    "      └── Warning\n",
    "           ├── BytesWarning\n",
    "           ├── DeprecationWarning\n",
    "           ├── EncodingWarning\n",
    "           ├── FutureWarning\n",
    "           ├── ImportWarning\n",
    "           ├── PendingDeprecationWarning\n",
    "           ├── ResourceWarning\n",
    "           ├── RuntimeWarning\n",
    "           ├── SyntaxWarning\n",
    "           ├── UnicodeWarning\n",
    "           └── UserWarning \"\"\"\n",
    "\n",
    "def classtree(a, indent=0):\n",
    "    print ('-' * indent, a.__name__)\n",
    "    for subcls in a.__subclasses__():\n",
    "        classtree(subcls, indent + 3)\n",
    "\n",
    "classtree(BaseException)"
   ]
  },
  {
   "cell_type": "markdown",
   "id": "eed8f77f",
   "metadata": {},
   "source": [
    "#### Q3. What errors are defined in the ArithmeticError class? Explain any two with an example."
   ]
  },
  {
   "cell_type": "markdown",
   "id": "4f54c0d0",
   "metadata": {},
   "source": [
    "ArithmeticError will be raised when we are dealing with the numerical calculations. The in-built excepions of arithmaticerror classes are \n",
    "\n",
    "1. ZerDivisionError\n",
    "2. OverFlowError\n",
    "3. FloatingPointError\n",
    "\n",
    "**ZerDivisionError**: We will get the zero division error when we divide the any number with zero\n",
    "\n",
    "**OverFlowError**: When an arithmetic operation exceeds the limits of the variable type, an OverflowError is raised. Long integers allocate more space as values grow, so they end up raising MemoryError. Floating point exception handling is not standardized, however. Regular integers are converted to long values as needed.\n",
    "\n",
    "**FloatingPointError**: Python FloatingPointError is an error that occurs when a floating-point calculation is attempted that is not supported by the available hardware or software. It occurs when trying to calculate a number that is too large or too small to represent as a floating-point number. It can also occur when the precision of the calculation is too large, resulting in an overflow error."
   ]
  },
  {
   "cell_type": "code",
   "execution_count": 2,
   "id": "34b6c6bb",
   "metadata": {},
   "outputs": [],
   "source": [
    "# ArithmaticError\n",
    "\n",
    "try:  \n",
    "    a = 10/0  # It basically raises \"ZeroDivisionError\" , But ZeroDivisionError is the in-built exceptions of the ArithmaticError Exception\n",
    "    print (a)\n",
    "except ArithmeticError:  \n",
    "        print (\"This statement is raising an arithmetic exception.\")\n",
    "else:  \n",
    "    print (\"Success.\")"
   ]
  },
  {
   "cell_type": "code",
   "execution_count": 3,
   "id": "a7f5e3e8",
   "metadata": {},
   "outputs": [],
   "source": [
    "\"\"\"ZeroDivisionError : We will get the zero division error when we divide the any number with zero\"\"\"\n",
    "\n",
    "try:  \n",
    "    a = 10/0  # It basically raises \"ZeroDivisionError\" \n",
    "    print (a)\n",
    "except ZeroDivisionError:  \n",
    "        print (\"This statement is raising an ZeroDivisionError (arithmetic exception)\")\n",
    "else:  \n",
    "    print (\"Success.\")"
   ]
  },
  {
   "cell_type": "code",
   "execution_count": 4,
   "id": "2cb4accd",
   "metadata": {},
   "outputs": [],
   "source": [
    "\"\"\" OverFlowError: , the OverflowError in Python indicates that an arithmetic operation has exceeded the limits of the current \n",
    "Python runtime \"\"\"\n",
    "\n",
    "try:\n",
    "    for i in range(0,1000):\n",
    "        a=i**10000.0\n",
    "except OverflowError as e:\n",
    "    print(\"The Over Flow error Occured :\", e)"
   ]
  },
  {
   "cell_type": "code",
   "execution_count": 5,
   "id": "1ef648e4",
   "metadata": {},
   "outputs": [],
   "source": [
    "\"\"\"FloatingPointError: Python FloatingPointError is an error that occurs when a floating-point calculation is attempted that is \n",
    "not supported by the available hardware or software. It occurs when trying to calculate a number that is too large or too small\n",
    "to represent as a floating-point number. It can also occur when the precision of the calculation is too large, resulting in an \n",
    "overflow error. \"\"\"\n",
    "\n",
    "\"\"\"\n",
    "Here are 10 possible causes of the FloatingPointError in Python:\n",
    "\n",
    "Providing an invalid literal in a floating-point operation.\n",
    "A calculation that produces a result that is too large to be represented as a floating-point number.\n",
    "Trying to divide a number by zero.\n",
    "Using an incorrect data type in a calculation.\n",
    "Mixing different numerical types in a calculation.\n",
    "Attempting to compare a float with an integer.\n",
    "Performing an operation on an undefined variable.\n",
    "Overflowing the number of bits used to represent a number.\n",
    "Using a non-numeric character in a calculation.\n",
    "An operation on a float that produces an undefined result.\n",
    "\"\"\"\n",
    "\n",
    "import numpy as np\n",
    "\n",
    "try:\n",
    "    with np.errstate(invalid=\"raise\"):\n",
    "        print(np.sqrt(-1))\n",
    "except FloatingPointError as e:\n",
    "    print(\"Floatoing point error occured :\",e)"
   ]
  },
  {
   "cell_type": "markdown",
   "id": "c04e94d5",
   "metadata": {},
   "source": [
    "#### Q4. Why LookupError class is used? Explain with an example KeyError and IndexError."
   ]
  },
  {
   "cell_type": "code",
   "execution_count": 6,
   "id": "ac86ef88",
   "metadata": {},
   "outputs": [],
   "source": [
    "\"\"\"\n",
    "LookupError\n",
    "           ├── IndexError\n",
    "           └── KeyError  \"\"\"\n",
    "\n",
    "\"\"\"The LookupError exception in Python forms the base class for all exceptions that are raised when an index or a key is not\n",
    "found for a sequence or dictionary respectively. You can use LookupError exception class to handle both IndexError and KeyError\n",
    "exception classes.\"\"\"\n",
    "\n",
    "print(\"************ Index error exception example ******************\\n\")\n",
    "\n",
    "try:\n",
    "    a=[1,2,3,4,5]\n",
    "    print(a[9])\n",
    "except IndexError as e:\n",
    "    print(\"Got an index error:\",e)\n",
    "finally:\n",
    "    print(\"Done with the IndexError Exception\\n\")\n",
    "\n",
    "\n",
    "print(\"************ Key error exception example ******************\\n\")\n",
    "\n",
    "try:\n",
    "    a={\"name\":\"Nethaji\",\"Roll_No\":15093}\n",
    "    print(a[\"kk\"])\n",
    "except KeyError as e:\n",
    "    print(\" Key error found \\n\")"
   ]
  },
  {
   "cell_type": "markdown",
   "id": "85874ee3",
   "metadata": {},
   "source": [
    "#### Q5. Explain ImportError. What is ModuleNotFoundError?"
   ]
  },
  {
   "cell_type": "code",
   "execution_count": 7,
   "id": "934ac93e",
   "metadata": {},
   "outputs": [],
   "source": [
    "\"\"\"\n",
    "ImportError\n",
    "        └── ModuleNotFoundError\n",
    "        \n",
    "ImportError: This error generally occurs when a class cannot be imported due to one of the following reasons: The imported \n",
    "class is in a circular dependency. The imported class is unavailable or was not created. The imported class name is misspelled.\n",
    "\n",
    "ModuleNotFoundError will be raised when the module which you are imported are not available or misspelled or if we didn't \n",
    "imported the module into our python environment\n",
    "\"\"\"\n",
    "\n",
    "try:\n",
    "    import nethaji # there is no package with name \"nethaji\"\n",
    "except ModuleNotFoundError:\n",
    "    print(\"Modulenotfounderror raised\")"
   ]
  },
  {
   "cell_type": "markdown",
   "id": "71b26df5",
   "metadata": {},
   "source": [
    "#### Q6. List down some best practices for exception handling in python."
   ]
  },
  {
   "cell_type": "markdown",
   "id": "528d834f",
   "metadata": {},
   "source": [
    "1) It should be advised to document all exceptions thrown by a program in the runtime **using the loggers**\n",
    "2) Avoid Raising Generic Exceptions and **try to build the custom exceptions** to handle the run time errors.\n",
    "3) Best practise to write **all the syntax like try, else, except, finally,raise.**\n",
    "4) Define Your Own Exception Hierarchy\n",
    "\n",
    "To do this, simply subclass Exception to create your own base exception class, then subclass that for each different type of exception you want to handle. For example:\n",
    "\n",
    "class MyBaseException(Exception):\n",
    "pass\n",
    "\n",
    "class MySystemExitException(MyBaseException):\n",
    "pass\n",
    "\n",
    "class MyImportError(MyBaseException):\n",
    "pass\n",
    "\n",
    "Now you can write code that handles each type of exception in the way that makes the most sense. For example:\n",
    "\n",
    "**try:**\n",
    "######## Some code that might throw an exception\n",
    "\n",
    "**except MySystemExitException:**\n",
    "######## Handle this type of exception by logging it and exiting gracefully\n",
    "\n",
    "**except MyImportError:**\n",
    "####### Handle this type of exception by just logging it\n",
    "\n",
    "**else:**\n",
    "######## No exceptions were raised, so handle this case accordingly\n",
    "\n",
    "5) Provide Contextual Information When Raising an Exception --> It is useful for the another developer to debug our code easily\n",
    "6) Write Tests to Ensure That Exceptions Are Raised Correctly \n",
    "7) Avoid writing unnecessary code in the program for example if you are expecting our program that it will raise NameError but you are written except statement for TypeError also, so writing the unnecessary code for typeerror is extra code."
   ]
  }
 ],
 "metadata": {
  "kernelspec": {
   "display_name": "Python 3 (ipykernel)",
   "language": "python",
   "name": "python3"
  },
  "language_info": {
   "codemirror_mode": {
    "name": "ipython",
    "version": 3
   },
   "file_extension": ".py",
   "mimetype": "text/x-python",
   "name": "python",
   "nbconvert_exporter": "python",
   "pygments_lexer": "ipython3",
   "version": "3.10.9"
  }
 },
 "nbformat": 4,
 "nbformat_minor": 5
}
